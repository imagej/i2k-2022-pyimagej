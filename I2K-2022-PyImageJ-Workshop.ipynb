{
 "cells": [
  {
   "cell_type": "markdown",
   "id": "bf1509a5",
   "metadata": {},
   "source": [
    "# Welcome to the I2K 2022 PyImageJ workshop!\n",
    "\n",
    "This notebook will guide you through ways to use PyImageJ to connect tools from ImageJ and Fiji with Python-based image processing and data science.\n",
    "\n",
    "It is structured as a series of exercises, which you will solve on your own. The [accompanying video presentation](https://www.youtube.com/watch?v=dQw4w9WgXcQ) will walk you through this notebook, providing solutions to each exercise, so that you can proceed even if you get stuck at any particular point.\n",
    "\n",
    "In addition to this workshop, there is also a [sequence of tutorial notebooks](https://github.com/imagej/pyimagej/tree/master/doc#tutorial-notebooks) in the [PyImageJ documentation](https://github.com/imagej/pyimagej#readme)."
   ]
  },
  {
   "cell_type": "markdown",
   "id": "c23d9cb8",
   "metadata": {},
   "source": [
    "# ImageJ, ImageJ2, and Fiji: What's the Difference?\n",
    "\n",
    "Before we begin, it is important to clarify these three terms:\n",
    "\n",
    "|   |   |\n",
    "|---|---|\n",
    "| ![](https://scijava.org/icons/imagej-icon-64.png) | [ImageJ](https://imagej.net/software/imagej) is public domain software for processing and analyzing scientific images, written by Wayne Rasband at the National Institutes of Health. It is a cross-platform desktop application written in Java. |\n",
    "| ![](https://scijava.org/icons/imagej2-icon-64.png)| [ImageJ2](https://imagej.net/software/imagej2) is a redesign of ImageJ for multidimensional image data, with a focus on scientific imaging. Its central goal is to broaden the paradigm of ImageJ beyond the limitations of the original ImageJ application, to support the next generation of multidimensional scientific imaging. |\n",
    "| ![](https://scijava.org/icons/fiji-icon-64.png) | [Fiji](https://imagej.net/software/fiji) is a “batteries-included” distribution of ImageJ2, bundling a lot of plugins which facilitate scientific image analysis. |\n",
    "\n",
    "You can use PyImageJ to interface with both [ImageJ](https://imagej.net/software/imagej) and [ImageJ2](https://imagej.net/software/imagej2) functionality, including [Fiji](https://imagej.net/software/fiji) plugins, as well as plugins from other [ImageJ update sites](https://imagej.net/update-sites/)."
   ]
  },
  {
   "cell_type": "markdown",
   "id": "1eef60a8",
   "metadata": {},
   "source": [
    "## 1. Initializing the ImageJ2 gateway\n",
    "\n",
    "The first step to using ImageJ technologies from Python is to initialize an ***ImageJ2 gateway*** using the `imagej.init` function.\n",
    "\n",
    "<div style=\"background: #fdb; box-shadow: 4px 4px 4px #d3d3d3; padding: 0.5em; margin-top: 1em\">\n",
    "\n",
    "🏋 In the following cell, please add code to initialize an ImageJ2 gateway ***with Fiji v2.5.0***, as a new variable called `ij`. Check the [PyImageJ Initialization guide](https://github.com/imagej/pyimagej/blob/1.2.0/doc/Initialization.md) for details. Then execute the cell by pressing <kbd>shift</kbd>+<kbd>enter</kbd>, or by clicking the `▶ Run` button in the toolbar above.\n",
    "\n",
    "</div>"
   ]
  },
  {
   "cell_type": "code",
   "execution_count": null,
   "id": "e59a185f",
   "metadata": {},
   "outputs": [],
   "source": [
    "# -- EXERCISE 1: Initializing the ImageJ2 gateway --\n",
    "# Import imagej and call the imagej.init function.\n",
    "# HINT 1: See \"Ways to initialize\" in the PyImageJ Initialization guide linked above.\n",
    "# HINT 2: The first time initializing takes longer since Java libraries are downloaded.\n"
   ]
  },
  {
   "cell_type": "markdown",
   "id": "f7b11a0c",
   "metadata": {},
   "source": [
    "<table><tr><td>\n",
    "\n",
    "💡 Unfortunately, as of this writing, it is normal to see a bunch of messages like:\n",
    "\n",
    "> 16:10:18.862 [SciJava-7668d560-Thread-0] DEBUG loci.formats.ClassList - Could not find loci.formats.in.URLReader\n",
    "\n",
    "These are non-fatal warnings, which you can ignore.\n",
    "\n",
    "</td></tr></table>"
   ]
  },
  {
   "cell_type": "markdown",
   "id": "9f2a7b70",
   "metadata": {},
   "source": [
    "To verify that our gateway is working, we will now perform some sanity checks. Click into the next cell and execute it."
   ]
  },
  {
   "cell_type": "code",
   "execution_count": null,
   "id": "e7aa9437",
   "metadata": {},
   "outputs": [],
   "source": [
    "assert 'ij' in locals(), \"The ij variable doesn't exist. Did you assign the created gateway to a variable called ij?\"\n",
    "assert hasattr(ij, 'app'), \"The ij variable exists, but does not have the expected structure. Are you sure it is an ImageJ2 gateway object?\"\n",
    "app_versions = {\"ImageJ1\": \"1.53r\", \"ImageJ2\": \"2.5.0/1.53r\", \"Fiji\": \"2.5.0\"}\n",
    "all_good = True\n",
    "for name, expected_version in app_versions.items():\n",
    "    app = ij.app().getApp(name)\n",
    "    actual_version = app.getVersion() if app else \"None\"\n",
    "    assert actual_version == expected_version, f\"Expected {expected_version} for the gateway's {name} component, but it was {actual_version}.\"\n",
    "print(\"Your gateway looks good! Nice work!\")"
   ]
  },
  {
   "cell_type": "markdown",
   "id": "e0a6ce35",
   "metadata": {},
   "source": [
    "If the gateway looks good, carry on. Otherwise, because Java can only be initialized once per Python session, you will need to restart your kernel by choosing \"Restart & Clear Output\" from the \"Kernel\" menu, and try again."
   ]
  },
  {
   "cell_type": "markdown",
   "id": "629c77f0",
   "metadata": {},
   "source": [
    "## 2. Importing Java classes into Python\n",
    "\n",
    "PyImageJ is built on the [scyjava](https://pypi.org/project/scyjava) library, which is built on [JPype](https://jpype.readthedocs.io/) and [jgo](https://pypi.org/project/jgo). These libraries enable us to import any available Java class into our Python program, and use its full API, just as we could from within a Java program.\n",
    "\n",
    "To do this, use the `scyjava.jimport` function with a string argument, passing the full name of the Java class you would like to import, assigning the result to a variable.\n",
    "\n",
    "For example, to import the `java.lang.System` class, you could write:\n",
    "\n",
    "```python\n",
    "from scyjava import jimport\n",
    "System = jimport('java.lang.System')\n",
    "```\n",
    "\n",
    "<div style=\"background: #fdb; box-shadow: 4px 4px 4px #d3d3d3; padding: 0.5em; margin-top: 1em\">\n",
    "\n",
    "🏋 In the following cell, please use `scyjava.jimport` to import the `java.lang.Runtime` class, so that we can check how much memory our Java virtual machine has available.\n",
    "\n",
    "</div>"
   ]
  },
  {
   "cell_type": "code",
   "execution_count": null,
   "id": "13949fa7",
   "metadata": {},
   "outputs": [],
   "source": [
    "# -- EXERCISE 2: Importing Java classes into Python --\n",
    "# Import Java's Runtime class using jimport.\n"
   ]
  },
  {
   "cell_type": "markdown",
   "id": "35bdda0d",
   "metadata": {},
   "source": [
    "Now, let's use that runtime object to inspect the memory available to our Java Virtual Machine. Please execute the next cell."
   ]
  },
  {
   "cell_type": "code",
   "execution_count": null,
   "id": "f7a19873",
   "metadata": {},
   "outputs": [],
   "source": [
    "print(Runtime.getRuntime().maxMemory() // (2**20), \" MB available to Java\")"
   ]
  },
  {
   "cell_type": "markdown",
   "id": "5ad237b4",
   "metadata": {},
   "source": [
    "You can use `scyjava.jimport` to import any Java class available on Java's runtime classpath."
   ]
  },
  {
   "cell_type": "markdown",
   "id": "5c5d95bc",
   "metadata": {},
   "source": [
    "## 3. Loading data into ImageJ\n",
    "\n",
    "Now that we have our ImageJ2 gateway, let's feed it some image data!\n",
    "\n",
    "The two main ways of doing that are:\n",
    "\n",
    "1. producing image data on the Java side; or\n",
    "2. wrapping Python image data into Java."
   ]
  },
  {
   "cell_type": "markdown",
   "id": "b98dbd3f",
   "metadata": {},
   "source": [
    "### 3.1. Producing image data on the Java side\n",
    "\n",
    "The ImageJ2 gateway is an instance of the [`net.imagej.ImageJ` class](https://javadoc.scijava.org/ImageJ2/net/imagej/ImageJ.html), and therefore supports all the usual ImageJ2 functions available in Java.\n",
    "\n",
    "<table><tr><td>\n",
    "\n",
    "💡 For a primer on ImageJ2 gateways, see the [Fundamentals of ImageJ2 notebook](https://github.com/imagej/tutorials/blob/2022-04/notebooks/1-Using-ImageJ/1-Fundamentals.ipynb) from the [ImageJ2 tutorial notebooks](https://github.com/imagej/tutorials/tree/2022-04/notebooks).\n",
    "\n",
    "</td></tr></table>\n",
    "\n",
    "One such function is `ij.io().open('/path/to/data.tif')`, to read data from files on disk.\n",
    "\n",
    "<div style=\"background: #fdb; box-shadow: 4px 4px 4px #d3d3d3; padding: 0.5em; margin-top: 1em\">\n",
    "\n",
    "🏋 Please:\n",
    "\n",
    "1. Download and unpack the [wtembryo](https://samples.scif.io/wtembryo.zip) sample image from the [SCIFIO sample images](https://scif.io/images).\n",
    "2. In the next cell, open `wtembryo.mov`, assigning the result to a new variable called `embryo`.\n",
    "\n",
    "</div>"
   ]
  },
  {
   "cell_type": "code",
   "execution_count": null,
   "id": "08f1b5ab",
   "metadata": {},
   "outputs": [],
   "source": [
    "# -- EXERCISE 3.1: Producing image data on the Java side --\n",
    "# Read in wtembryo.mov into a variable called embryo.\n"
   ]
  },
  {
   "cell_type": "markdown",
   "id": "53cf84dd",
   "metadata": {},
   "source": [
    "<table><tr><td>\n",
    "\n",
    "💡 It is safe to ignore any `INFO` and `DEBUG` messages above.\n",
    "\n",
    "</td></tr></table>\n",
    "\n",
    "Let's take a look at the `embryo` image, to understand its structure."
   ]
  },
  {
   "cell_type": "code",
   "execution_count": null,
   "id": "193d5888",
   "metadata": {},
   "outputs": [],
   "source": [
    "def dump_info(image):\n",
    "    \"\"\"A handy function to print details of an image object.\"\"\"\n",
    "    print(f\" name: {image.getName() if hasattr(image, 'getName') else 'N/A'}\")\n",
    "    # TODO: use image.getTitle() for the name if that's available.\n",
    "    print(f\" type: {type(image)}\")\n",
    "    print(f\"dtype: {image.dtype if hasattr(image, 'dtype') else 'N/A'}\")\n",
    "    print(f\"shape: {image.shape}\")\n",
    "    print(f\" dims: {image.dims if hasattr(image, 'dims') else 'N/A'}\")\n",
    "\n",
    "if not 'embryo' in locals(): print(\"I cannot find any variable called embryo. Did you write `embryo = ...` above?\")\n",
    "elif str(type(embryo)) != \"<java class 'net.imagej.DefaultDataset'>\": print(\"The embryo variable does not contain an ImageJ2 Dataset. Did you use the `ij.io().open` function?\")\n",
    "else: dump_info(embryo)"
   ]
  },
  {
   "cell_type": "markdown",
   "id": "1a5253c2",
   "metadata": {},
   "source": [
    "Some important points to note here!\n",
    "\n",
    "1. The embryo's type is [`net.imagej.DefaultDataset`](https://javadoc.scijava.org/ImageJ2/net/imagej/DefaultDataset.html), a Java class. Notably, this class implements the [`net.imagej.Dataset`](https://javadoc.scijava.org/ImageJ2/net/imagej/Dataset.html) interface, the primary image data type of ImageJ2.\n",
    "\n",
    "2. The embryo's dtype (i.e. the type of its elements, i.e. what kind of sample values it has) is [`UnsignedByteType`](https://javadoc.scijava.org/ImgLib2/net/imglib2/type/numeric/integer/UnsignedByteType.html), the ImgLib2 class for unsigned 8-bit integer data (i.e. uint8) with integer values in the \\[0, 255\\] range.\n",
    "\n",
    "3. The image is 4-dimensional, 320 × 240, 3 channels, and 108 time points.\n",
    "\n",
    "Make sure you know your data, especially which axes are present and in which order.\n",
    "\n",
    "<table><tr><td>\n",
    "\n",
    "💡 We won't cover it in this workshop, but there is also `ij.io().save(image, filepath)` to save your image data to disk.\n",
    "\n",
    "</td></tr></table>"
   ]
  },
  {
   "cell_type": "markdown",
   "id": "96cc1e41",
   "metadata": {},
   "source": [
    "### 3.2. Wrapping Python image data into Java\n",
    "In many cases, you will have image data in Python already as a NumPy array, or perhaps as an [xarray](https://docs.xarray.dev/), and want to send it into Java for processing with ImageJ routines. This PyImageJ tutorial assumes you are somewhat familiar with NumPy already; if not, please see e.g. [this W3Schools tutorial on NumPy](https://www.w3schools.com/python/numpy/) to learn about NumPy before proceeding.\n",
    "\n",
    "In the next cell, we will open an image as a NumPy array using the [scikit-image](https://scikit-image.org/) library."
   ]
  },
  {
   "cell_type": "code",
   "execution_count": null,
   "id": "253d9cb3",
   "metadata": {},
   "outputs": [],
   "source": [
    "import skimage\n",
    "cells = skimage.data.cells3d()\n",
    "dump_info(cells)"
   ]
  },
  {
   "cell_type": "markdown",
   "id": "4e91e9e2",
   "metadata": {},
   "source": [
    "Because this sample image is a NumPy array, but not an xarray, it does not have dimensional axis labels. However, scikit-image has [defined conventions](https://scikit-image.org/docs/dev/user_guide/numpy_images.html#coordinate-conventions) for the order of dimensions as follows:\n",
    "\n",
    "    (t, pln, row, col, ch)\n",
    "\n",
    "Where `t` is time, `pln` is plane/Z, `row` is row/Y, `col` is column/X, and `ch` is channel.\n",
    "\n",
    "Now that we are armed with that knowledge, notice that `cells` actually has a slightly different dimension order, with planar rather than interleaved channels: `(pln, ch, row, col)`. Let's construct an xarray from this image that includes the correct dimensional axis labels:"
   ]
  },
  {
   "cell_type": "code",
   "execution_count": null,
   "id": "60b6edbe",
   "metadata": {},
   "outputs": [],
   "source": [
    "import xarray\n",
    "xcells = xarray.DataArray(cells, dims=('pln', 'ch', 'row', 'col'))\n",
    "dump_info(xcells)"
   ]
  },
  {
   "cell_type": "markdown",
   "id": "3833c301",
   "metadata": {},
   "source": [
    "<div style=\"background: #fdb; box-shadow: 4px 4px 4px #d3d3d3; padding: 0.5em\">\n",
    "\n",
    "🏋 Now to wrap this image as a Java object. We will use PyImageJ's `ij.py.to_java(data)` function, which wraps the image ***without making a copy***. This means that you can modify the original NumPy array values, and the same changes will automatically be reflected on the Java side as well.\n",
    "\n",
    "Please try calling `ij.py.to_java` with the `cells` object, and assign it to a new variable called `jcells`.\n",
    "\n",
    "And while we are at it, let's also convert `xcells` into Java, and call it `jxcells`.\n",
    "    \n",
    "</div>"
   ]
  },
  {
   "cell_type": "code",
   "execution_count": null,
   "id": "d38e7d48",
   "metadata": {},
   "outputs": [],
   "source": [
    "# -- EXERCISE 3.2: Wrapping Python image data into Java --\n",
    "# Convert cells to jcells, and xcells to jxcells.\n"
   ]
  },
  {
   "cell_type": "markdown",
   "id": "857656f9",
   "metadata": {},
   "source": [
    "Run the next cell to inspect your handiwork:"
   ]
  },
  {
   "cell_type": "code",
   "execution_count": null,
   "id": "eab306d7",
   "metadata": {},
   "outputs": [],
   "source": [
    "assert jcells.shape == (256, 256, 2, 60)\n",
    "assert jxcells.dims == ('X', 'Y', 'Channel', 'Z')\n",
    "print(\"[jcells]\")\n",
    "dump_info(jcells)\n",
    "print(\"\\n[jxcells]\")\n",
    "dump_info(jxcells)"
   ]
  },
  {
   "cell_type": "markdown",
   "id": "92f0fb2c",
   "metadata": {},
   "source": [
    "Let's take a look at what happened here:\n",
    "\n",
    "* The `cells`, a numpy array, became an `Img<UnsignedShortType>`, an ImgLib2 image type without metadata.\n",
    "* The `xcells`, an xarray, became a `Dataset`, an ImageJ2 rich image type with metadata including dimensional labels.\n",
    "\n",
    "In both cases, notice that the dimensions were reordered. PyImageJ makes an effort to respect the scikit-image dimension order convention where applicable, including ***reordering dimensions between ImageJ2 style and scikit-image style*** when translating images between worlds.\n",
    "\n",
    "In ImageJ-style terminology, the `ZCYX` order becomes `XYCZ`, because ***ImageJ2 indexes dimensions from fastest to slowest moving***, whereas ***NumPy indexes them from slowest to fastest moving***. In both worlds, iterating over this image's samples will step through columns first, then rows, then channels, then focal planes—the only difference is the numerical order of the dimensions.\n",
    "\n",
    "These differences between conventions can be confusing, so ***pay careful attention to your data's dimensional axis types***."
   ]
  },
  {
   "cell_type": "markdown",
   "id": "6bb38765",
   "metadata": {},
   "source": [
    "Note that `ij.py.to_java` supports various data types beyond only images:\n",
    "\n",
    "| Python type        | Java type                          | Notes |\n",
    "|--------------------|------------------------------------|-------|\n",
    "| `numpy.ndarray`    | `net.imglib2.img.Img`              | An `Img` is both a `RandomAccessibleInterval` and an `IterableInterval`. |\n",
    "| `xarray.DataArray` | `net.imagej.Dataset`               | A `Dataset` is an `Img` with additional metadata including dimensional axis labels. |\n",
    "| `int`              | `Integer`, `Long`, or `BigInteger` | Destination Java type depends on magnitude of the integer. |\n",
    "| `float`            | `Float`, `Double`, or `BigDecimal` | Destination Java type depends on magnitude and precision of the value. |\n",
    "| `str`              | `String`                           |       |\n",
    "| `bool`             | `boolean`                          |       |\n",
    "| `dict`             | `LinkedHashMap`                    | Converted recursively (i.e., elements of the dict are converted too). |\n",
    "| `set`              | `LinkedHashSet`                    | Converted recursively (i.e., elements of the set are converted too). |\n",
    "| `list`             | `ArrayList`                        | Converted recursively (i.e., elements of the list are converted too). |\n",
    "\n",
    "But ***only images are wrapped without copying data***."
   ]
  },
  {
   "cell_type": "markdown",
   "id": "a1851282",
   "metadata": {},
   "source": [
    "## 4. Passing image data from Java to Python\n",
    "\n",
    "To translate a Java image into Python, use:\n",
    "\n",
    "```python\n",
    "python_image = ij.py.from_java(java_image)\n",
    "```\n",
    "\n",
    "It's the opposite of `ij.py.to_java`:\n",
    "\n",
    "* Metadata-rich images such as `Dataset` become xarrays.\n",
    "* Plain metadata-free images (e.g. `Img`, `RandomAccessibleInterval`) become NumPy arrays.\n",
    "* Generally speaking, Java types in the table above become the corresponding Python types.\n",
    "\n",
    "<div style=\"background: #fdb; box-shadow: 4px 4px 4px #d3d3d3; padding: 0.5em; margin-top: 1em\">\n",
    "\n",
    "🏋 In the next cell, please convert `jxcells` back to Python, then call our `dump_info` function on it.\n",
    "\n",
    "</div>"
   ]
  },
  {
   "cell_type": "code",
   "execution_count": null,
   "id": "c90c5ebd",
   "metadata": {},
   "outputs": [],
   "source": [
    "# -- EXERCISE 4: Passing image data from Java to Python --\n",
    "# Convert jxcells back to Java, and print its details using dump_info.\n"
   ]
  },
  {
   "cell_type": "markdown",
   "id": "2ded087c",
   "metadata": {},
   "source": [
    "Compare this result to the original Python-side `xcells` and Java-side `jxcells`:"
   ]
  },
  {
   "cell_type": "code",
   "execution_count": null,
   "id": "b51e91ae",
   "metadata": {
    "scrolled": true
   },
   "outputs": [],
   "source": [
    "print(\"[xcells - original Python image]\")\n",
    "dump_info(xcells)\n",
    "print(\"\\n[jxcells - after conversion to Java]\")\n",
    "dump_info(jxcells)"
   ]
  },
  {
   "cell_type": "markdown",
   "id": "10eb0b23",
   "metadata": {},
   "source": [
    "Notice the difference? The `xcells` dimension order is ZCYX, which flipped to XYCZ when passed to Java. But when passed back to Python, the C dimension was shuffled to the top. The reason is:\n",
    "    \n",
    "***PyImageJ makes a best effort to reorganize image dimensions to match scikit-image conventions.*** The dimensions TZYXC are shuffled to the top with that precedence; any other dimensions are left in place behind those. This behavior is intended to make it easier to use converted Python images with Python-side tools like scikit-image and napari (see also [section 6.4](#6.4.-Displaying-images-via-napari)).\n",
    "\n",
    "So again: ***pay careful attention to your data's dimensional axis types***."
   ]
  },
  {
   "cell_type": "markdown",
   "id": "64db3f9a",
   "metadata": {},
   "source": [
    "## 5. Slicing image data\n",
    "\n",
    "NumPy supports a powerful slicing operation, which lets you focus on a subset of your image data. You can crop image planes, work with one channel or time point at a time, limit the range of focal planes, and more.\n",
    "\n",
    "If you are not already familiar with NumPy array slicing, please peruse the [NumPy slicing tutorial on W3Schools](https://www.w3schools.com/python/numpy/numpy_array_slicing.asp) to get familiar with it.\n",
    "\n",
    "Here are some quick examples for a 384 × 256 RGB image:\n",
    "\n",
    "| Syntax                   | Result                              | Shape         |\n",
    "|--------------------------|-------------------------------------|---------------|\n",
    "| `image`                  | the image without any slicing       | (256, 384, 3) |\n",
    "| `image[:,:,0]`           | channel 0 (red)                     | (256, 384)    |\n",
    "| `image[:,:,-1]`          | last channel (blue)                 | (256, 384)    |\n",
    "| `image[96:288,64:192,:]` | cropped 192x128 RGB image, centered | (128, 192, 3) |\n",
    "\n",
    "PyImageJ supports slicing Java images in the same way, using the NumPy syntax. Just be sure to check the `image.shape` and `image.dims` before slicing, to make sure you are slicing the right thing!\n",
    "\n",
    "<div style=\"background: #fdb; box-shadow: 4px 4px 4px #d3d3d3; padding: 0.5em; margin-top: 1em\">\n",
    "\n",
    "🏋 In the next cell, please create the following new variables:\n",
    "\n",
    "* `xcells2d` - a 2D slice of the `xcells` image at its centermost plane (index 30), and first channel.\n",
    "* `xcells3d` - a 3D slice of the `xcells` image at all planes of the second channel.\n",
    "* `embryo2d` - a 2D slice of the `embryo` image at the final time point of the first channel.\n",
    "* `embryo3d` - a 3D slice of the `embryo` image at all time points of the first channel.\n",
    "\n",
    "As a reminder: `xcells` is an xarray (Python), whereas `embryo` is a `Dataset` (Java), but both should be sliceable just the same.\n",
    "\n",
    "</div>"
   ]
  },
  {
   "cell_type": "code",
   "execution_count": null,
   "id": "5b6ca4a1",
   "metadata": {},
   "outputs": [],
   "source": [
    "# -- EXERCISE 5: Slicing image data --\n",
    "# Slice xcells into xcells2d and xcells3d, and embryo into embryo2d and embryo3d.\n",
    "# HINT: Try printing the shape and dims of each image before slicing.\n"
   ]
  },
  {
   "cell_type": "markdown",
   "id": "b78f23dd",
   "metadata": {},
   "source": [
    "Run the following cell to check your work:"
   ]
  },
  {
   "cell_type": "code",
   "execution_count": null,
   "id": "828f215e",
   "metadata": {},
   "outputs": [],
   "source": [
    "def check_slice(name, image, shape, expected, evaluate):\n",
    "    success = image.shape == shape and all(evaluate(image, k) == v for k, v in expected.items())\n",
    "    print(name, f\"looks good: {image.shape}\" if success else \"isn't right.\")\n",
    "\n",
    "def xarray_value(image, k): return image[k]\n",
    "def img_value(image, k): return image[k].get()\n",
    "\n",
    "check_slice(\"xcells2d\", xcells2d, (256, 256), {(0, 0): 4496, (-1, -1): 3682}, xarray_value)\n",
    "check_slice(\"xcells3d\", xcells3d, (60, 256, 256), {(0, 0, 0): 5311, (-1, -1, -1): 4031}, xarray_value)\n",
    "check_slice(\"embryo2d\", embryo2d, (320, 240), {(160, 120): 136, (185, 137): 95}, img_value)\n",
    "check_slice(\"embryo3d\", embryo3d, (320, 240, 108), {(100, 110, 20): 130, (130, 140, 50): 154}, img_value)"
   ]
  },
  {
   "cell_type": "markdown",
   "id": "4c37b397",
   "metadata": {},
   "source": [
    "Again, you can check out the [NumPy slicing tutorial on W3Schools](https://www.w3schools.com/python/numpy/numpy_array_slicing.asp) for more details on how to use NumPy slicing."
   ]
  },
  {
   "cell_type": "markdown",
   "id": "3e3e7018",
   "metadata": {},
   "source": [
    "## 6. Displaying images\n",
    "\n",
    "There are several nice ways to display images, both inside Jupyter Notebook and via external viewers. This section will explore a few options."
   ]
  },
  {
   "cell_type": "markdown",
   "id": "be67a124",
   "metadata": {},
   "source": [
    "### 6.1. Displaying images via ij.py.show\n",
    "\n",
    "PyImageJ comes with a built-in function, `ij.py.show(image)`, for showing 2D images. As of this writing, it uses [matplotlib.pyplot](https://matplotlib.org/stable/api/_as_gen/matplotlib.pyplot.html) internally. This function supports both Python and Java image types, but only works for 2D.\n",
    "\n",
    "<div style=\"background: #fdb; box-shadow: 4px 4px 4px #d3d3d3; padding: 0.5em; margin-top: 1em\">\n",
    "\n",
    "🏋 In the next cell, try displaying the `xcells2d` and `embryo2d` images using `ij.py.show`.\n",
    "\n",
    "</div>"
   ]
  },
  {
   "cell_type": "code",
   "execution_count": null,
   "id": "c63004ae",
   "metadata": {},
   "outputs": [],
   "source": [
    "# -- EXERCISE 6.1: Displaying images via ij.py.show --\n",
    "# Display xcells2d and embryo2d using the ij.py.show function.\n",
    "# EXTRA: Use a custom color map by passing the cmap parameter.\n"
   ]
  },
  {
   "cell_type": "markdown",
   "id": "2c0a2209",
   "metadata": {},
   "source": [
    "The `ij.py.show` function also supports passing a custom color map e.g. `cmap='hsv'` with the [same syntaxes as matplotlib](https://matplotlib.org/stable/tutorials/colors/colormaps.html). Give it a try above! But if you need more control over the plot beyond that, you will have to use `pyplot` directly."
   ]
  },
  {
   "cell_type": "markdown",
   "id": "601d058d",
   "metadata": {},
   "source": [
    "### 6.2. Displaying images dynamically with ipywidgets\n",
    "\n",
    "The ipywidgets library lets us add interactive elements such as sliders to our notebook. Let's build a plane viewer for N-dimensional data. 😎"
   ]
  },
  {
   "cell_type": "code",
   "execution_count": null,
   "id": "cfd9cbcd",
   "metadata": {},
   "outputs": [],
   "source": [
    "def plane(image, pos):\n",
    "    \"\"\"\n",
    "    Slices an image plane at the given position.\n",
    "    :param image: the image to slice\n",
    "    :param pos: a dictionary from dimensional axis label to element index for that dimension\n",
    "    \"\"\"\n",
    "    # Convert pos dictionary to position indices in dimension order.\n",
    "    # See https://stackoverflow.com/q/39474396/1207769.\n",
    "    p = tuple(pos[image.dims[d]] if image.dims[d] in pos else slice(None) for d in range(image.ndim))\n",
    "    return image[p]"
   ]
  },
  {
   "cell_type": "markdown",
   "id": "aa5d66f5",
   "metadata": {},
   "source": [
    "This `plane` function lets us slice an image using its dimensional axis labels:"
   ]
  },
  {
   "cell_type": "code",
   "execution_count": null,
   "id": "8a132cb1",
   "metadata": {},
   "outputs": [],
   "source": [
    "ij.py.show(plane(embryo, {'Channel': 1, 'Time': 58}))"
   ]
  },
  {
   "cell_type": "markdown",
   "id": "e599153e",
   "metadata": {},
   "source": [
    "Now that we have this ability, we can script some ipywidget sliders around it:"
   ]
  },
  {
   "cell_type": "code",
   "execution_count": null,
   "id": "903656ea",
   "metadata": {},
   "outputs": [],
   "source": [
    "import ipywidgets\n",
    "\n",
    "def _axis_index(image, *options):\n",
    "    axes = tuple(d for d in range(image.ndim) if image.dims[d].lower() in options)\n",
    "    if len(axes) == 0:\n",
    "        raise ValueError(f\"Image has no {options[0]} axis!\")\n",
    "    return axes[0]\n",
    "\n",
    "def ndshow(image, cmap=None, x_axis=None, y_axis=None, immediate=False):\n",
    "    if not hasattr(image, 'dims'):\n",
    "        # We need dimensional axis labels!\n",
    "        raise TypeError(\"Metadata-rich image required\")\n",
    "\n",
    "    # Infer X and/or Y axes as needed.\n",
    "    if x_axis is None:\n",
    "        x_axis = _axis_index(image, \"x\", \"col\")\n",
    "    if y_axis is None:\n",
    "        y_axis = _axis_index(image, \"y\", \"row\")\n",
    "\n",
    "    # Build ipywidgets sliders, one per non-planar dimension.\n",
    "    widgets = {}\n",
    "    for d in range(image.ndim):\n",
    "        if d == x_axis or d == y_axis:\n",
    "            continue\n",
    "        label = image.dims[d]\n",
    "        widgets[label] = ipywidgets.IntSlider(description=label, max=image.shape[d]-1, continuous_update=immediate)\n",
    "\n",
    "    # Create image plot with interactive sliders.\n",
    "    def recalc(**kwargs):\n",
    "        ij.py.show(plane(image, kwargs), cmap=cmap)\n",
    "    ipywidgets.interact(recalc, **widgets)"
   ]
  },
  {
   "cell_type": "markdown",
   "id": "2e0fa4ff",
   "metadata": {},
   "source": [
    "Yeah, it's a lot of code. The plan is for this logic to become part of `ij.py.show`, so that you don't have to cut-and-paste it into your notebooks.\n",
    "\n",
    "<div style=\"background: #fdb; box-shadow: 4px 4px 4px #d3d3d3; padding: 0.5em; margin-top: 1em\">\n",
    "\n",
    "🏋 In the next cell, try calling `ndshow` with `xcells` or `embryo`.\n",
    "\n",
    "</div>"
   ]
  },
  {
   "cell_type": "code",
   "execution_count": null,
   "id": "5a255354",
   "metadata": {},
   "outputs": [],
   "source": [
    "# -- EXERCISE 6.2: Displaying images dynamically with ipywidgets --\n",
    "# Try calling ndshow on embryo and xcells.\n"
   ]
  },
  {
   "cell_type": "markdown",
   "id": "2887dad9",
   "metadata": {},
   "source": [
    "One advantage of this approach is that it supports N-dimensional images directly in the notebook. A downside is that ipywidgets like this are not rendered by most static notebook renderers such as [nbviewer](https://nbviewer.org/) and [GitHub](https://github.com/)."
   ]
  },
  {
   "cell_type": "markdown",
   "id": "da0670db",
   "metadata": {},
   "source": [
    "### 6.3. Displaying images via itkwidgets\n",
    "\n",
    "The [itkwidgets package](https://pypi.org/project/itkwidgets/) provides a powerful viewer for 2D and 3D images, point sets, and geometry. Using it is as simple as importing the `view` function from `itkwidgets`, then calling `view(image)`.\n",
    "\n",
    "***Note: itkwidgets only works with Python images, not Java images.*** Fortunately, you can use `ij.py.from_java` to convert a Java image to Python before displaying it.\n",
    "\n",
    "<div style=\"background: #fdb; box-shadow: 4px 4px 4px #d3d3d3; padding: 0.5em; margin-top: 1em\">\n",
    "\n",
    "🏋 In the next cell, give itkwidgets a try with `xcells3d` or `embryo3d`.\n",
    "\n",
    "</div>"
   ]
  },
  {
   "cell_type": "code",
   "execution_count": null,
   "id": "498910f9",
   "metadata": {},
   "outputs": [],
   "source": [
    "# -- EXERCISE 6.3: Displaying images via itkwidgets --\n",
    "# Display xcells3d or embryo3d with itkwidgets.view.\n",
    "# HINT: Convert Java images first using ij.py.from_java.\n",
    "# EXTRA 1: Try xcells2d and embryo2d as well, if you like.\n",
    "# EXTRA 2: One way to change Z depth in 3D is scipy.ndimage.zoom.\n"
   ]
  },
  {
   "cell_type": "markdown",
   "id": "b0c44a76",
   "metadata": {},
   "source": [
    "### 6.4. Displaying images via napari\n",
    "\n",
    "<table><tr><td>\n",
    "\n",
    "😿 This section does not currently work on macOS. See [imagej/pyimagej#197](https://github.com/imagej/pyimagej/issues/197) for details. If you are using macOS, please proceed to [section 7](#7.-Calling-SciJava-scripts).\n",
    "\n",
    "</td></tr></table>\n",
    "\n",
    "The [napari](https://napari.org/) package provides an external viewer for N-dimensional image data. Using it is as simple as importing the `view_image` function from `napari`, then calling `view_image(image)`.\n",
    "\n",
    "***Note:*** Like `itkwidgets`, `napari` ***only supports Python images, not Java images***. You will need to convert them from Java to Python using `ij.py.from_java(image)`.\n",
    "\n",
    "Also be aware that as of this writing, napari does not recognize xarray dimensional axis labels, and it also wants a ***different dimension order from the scikit-image convention***; for `cells`, using `(ch, pln, row, col)` works well. You can use `numpy.moveaxis` to adjust the dimension order.\n",
    "\n",
    "<div style=\"background: #fdb; box-shadow: 4px 4px 4px #d3d3d3; padding: 0.5em; margin-top: 1em\">\n",
    "\n",
    "🏋 In the next cell, try out napari with `embryo` or `cells`.\n",
    "\n",
    "</div>"
   ]
  },
  {
   "cell_type": "code",
   "execution_count": null,
   "id": "24c0cdd2",
   "metadata": {},
   "outputs": [],
   "source": [
    "# -- EXERCISE 6.4: Displaying images via napari --\n",
    "# Display cells or embryo using napari.\n",
    "# HINT: Convert Java images first using ij.py.from_java.\n",
    "# EXTRA: To make napari happy with cells, use numpy.moveaxis to swap Z and C.\n"
   ]
  },
  {
   "cell_type": "markdown",
   "id": "3dc22d3f",
   "metadata": {},
   "source": [
    "The napari viewer will pop up in a separate window. If you don't see anything, check behind your browser window.\n",
    "\n",
    "<table><tr><td>\n",
    "\n",
    "💡 See also [napari-imagej](https://github.com/imagej/napari-imagej), a napari plugin for accessing ImageJ functions via an integrated search widget.\n",
    "\n",
    "</td></tr></table>"
   ]
  },
  {
   "cell_type": "markdown",
   "id": "82b81bfb",
   "metadata": {},
   "source": [
    "### 6.5. Displaying images via ImageJ\n",
    "\n",
    "Finally, you can use ImageJ as an external viewer from Python, bringing the full power of ImageJ/ImageJ2/Fiji/etc. to bear on your data.\n",
    "\n",
    "However, you ***must initialize the ImageJ2 gateway in interactive mode*** to access this power. In PyImageJ's default headless mode, the ImageJ graphical user interface (GUI) cannot be used.\n",
    "\n",
    "<table><tr><td>\n",
    "\n",
    "😿 On macOS, for technical reasons, interactive mode [is not available](https://github.com/imagej/pyimagej/blob/1.2.0/doc/Troubleshooting.md#non-blocking-interactive-mode-on-macos) ([1](https://github.com/imagej/pyimagej/issues/23), [2](https://github.com/imagej/pyimagej/issues/185)). But [good scientists use Linux](https://www.nature.com/articles/nbt.2740/), for scientific reproducibility among many other reasons: macOS-based programs tend to stop working within 5-10 years because Apple regularly and intentionally breaks the underlying architecture ([1](https://arstechnica.com/gadgets/2018/01/apple-prepares-macos-users-for-discontinuation-of-32-bit-app-support/), [2](https://www.theverge.com/2019/10/12/20908567/apple-macos-catalina-breaking-apps-32-bit-support-how-to-prepare-avoid-update), [3](https://www.notebookcheck.net/The-end-for-Intel-compatible-x86-apps-on-M1-Macs-macOS-11-3-could-drop-Rosetta-in-certain-countries.526072.0.html), [4](https://news.ycombinator.com/item?id=31135972), [5](https://www.extremetech.com/computing/270902-apple-defends-killing-opengl-opencl-as-developers-threaten-revolt)). Apple also [spies on you by default](https://sneak.berlin/20201112/your-computer-isnt-yours/). If you are using a macOS system to work through this notebook, skip to [section 7](#7.-Image-processing).\n",
    "\n",
    "</td></tr></table>\n",
    "\n",
    "In the next cell, we will check the mode of our ImageJ2 gateway."
   ]
  },
  {
   "cell_type": "code",
   "execution_count": null,
   "id": "9edf3c33",
   "metadata": {},
   "outputs": [],
   "source": [
    "# In headless mode, the ImageJ user interface cannot be used.\n",
    "# Run me to make sure we are not in headless mode!\n",
    "print(\"Headless\" if ij.ui().isHeadless() else \"GUI-enabled!\")"
   ]
  },
  {
   "cell_type": "markdown",
   "id": "a96a5f65",
   "metadata": {},
   "source": [
    "If the above cell responded `Headless`, and your operating system is Linux or Windows, you can fix it with these three steps:\n",
    "\n",
    "1. Choose _Kernel &rarr; Restart and Clear Output_ from the Jupyter notebook menu.\n",
    "2. Edit the [EXERCISE 1](#1.-Initializing-the-ImageJ2-gateway) cell at the top of this notebook to pass `mode='interactive'` to `imagej.init`.\n",
    "3. Click into the [EXERCISE 6.5](#6.5.-Displaying-images-via-ImageJ) cell below and choose _Cell &rarr; Run All Above_ from the Jupyter notebook menu.\n",
    "\n",
    "These steps assume you have successfully completed all the exercise cells until this point.\n",
    "\n",
    "If all goes well, the `ij.ui().isHeadless()` test above will now say `GUI-enabled!`.\n",
    "\n",
    "----------------\n",
    "\n",
    "Now that we have the ImageJ GUI available, we can invoke the relevant functions:\n",
    "\n",
    "* `ij.ui().show(image)` displays an image in an [image window](https://imagej.net/learn#image-windows). It supports ***Java images only***; convert from Python using `ij.py.to_java`.\n",
    "\n",
    "* `ij.ui().showUI()` displays the [main window](https://imagej.net/learn#the-main-window). This invocation is optional, but you'll need it to access commands via the [menus](https://imagej.net/learn#the-menu-bar) and [search bar](https://imagej.net/learn#the-search-bar).\n",
    "\n",
    "<div style=\"background: #fdb; box-shadow: 4px 4px 4px #d3d3d3; padding: 0.5em; margin-top: 1em\">\n",
    "\n",
    "🏋 Please show `jxcells` in an ImageJ window using the `ij.ui().show` function.\n",
    "\n",
    "</div>"
   ]
  },
  {
   "cell_type": "code",
   "execution_count": null,
   "id": "fe89f7f8",
   "metadata": {},
   "outputs": [],
   "source": [
    "# -- EXERCISE 6.5: Displaying images via ImageJ --\n",
    "# Show jxcells in an ImageJ window using the ij.ui().show function.\n",
    "# EXTRA: Use ij.ui().showUI() to show the main window too, and run some ImageJ commands on your data.\n"
   ]
  },
  {
   "cell_type": "markdown",
   "id": "2d865afa",
   "metadata": {},
   "source": [
    "You can jump back and forth between the notebook and external viewers such as ImageJ and napari, executing Python code to change the state of the graphical applications, and vice versa. It is a powerful combination for interactively exploring and analyzing data.\n",
    "\n",
    "<table><tr><td>\n",
    "\n",
    "💡 If you close ImageJ's main window, it will quit both Java and Python, killing the notebook session. But don't panic: you can re-run your cells quickly via e.g. _Cell &rarr; Run All Above_.\n",
    "\n",
    "</td></tr></table>"
   ]
  },
  {
   "cell_type": "markdown",
   "id": "9f70ad47",
   "metadata": {},
   "source": [
    "## 7. Calling SciJava scripts\n",
    "\n",
    "ImageJ2 is built on [SciJava](https://imagej.net/libs/scijava), which provides foundational infrastructure (application container, plugin framework, etc.). One of SciJava's features is [a powerful scripting framework](https://imagej.net/scripting) enabling ImageJ2 to execute scripts in [various scripting languages](https://imagej.net/scripting#supported-languages).\n",
    "\n",
    "<table><tr><td>\n",
    "\n",
    "💡 This workshop assumes a basic level of familiarity with SciJava; if you need a primer, see the [Fundamentals of ImageJ2](https://github.com/imagej/tutorials/blob/2022-04/notebooks/1-Using-ImageJ/1-Fundamentals.ipynb) notebook.\n",
    "\n",
    "</td></tr></table>\n",
    "\n",
    "PyImageJ includes a convenience function to invoke such scripts from Python as well: `outputs = ij.py.run_script(language, script, args)`, where `args` is a dictionary of input variable names to values, and `outputs` is a dictionary of output variable names to values.\n",
    "\n",
    "The following cell gives an example of such a script, written in [Groovy](https://imagej.net/scripting/groovy), which uses [ImageJ Ops](https://imagej.net/libs/imagej-ops) to compute numerical statistics about an image, returning the result as a [SciJava Table](https://github.com/imagej/tutorials/blob/2022-04/notebooks/1-Using-ImageJ/4-Tables.ipynb) object."
   ]
  },
  {
   "cell_type": "code",
   "execution_count": null,
   "id": "5be1d0fb",
   "metadata": {},
   "outputs": [],
   "source": [
    "compute_stats_script = \"\"\"\n",
    "#@ OpService ops\n",
    "#@ net.imglib2.RandomAccessibleInterval image\n",
    "#@output stats\n",
    "\n",
    "statNames = new org.scijava.table.GenericColumn(\"Statistic\")\n",
    "statValues = new org.scijava.table.DoubleColumn(\"Value\")\n",
    "addRow = (n, v) -> { statNames.add(n); statValues.add(v.getRealDouble()) }\n",
    "\n",
    "addRow(\"geometricMean\", ops.stats().geometricMean(image))\n",
    "addRow(\"harmonicMean\", ops.stats().harmonicMean(image))\n",
    "addRow(\"kurtosis\", ops.stats().kurtosis(image))\n",
    "addRow(\"max\", ops.stats().max(image))\n",
    "addRow(\"mean\", ops.stats().mean(image))\n",
    "addRow(\"median\", ops.stats().median(image))\n",
    "addRow(\"min\", ops.stats().min(image))\n",
    "addRow(\"moment1AboutMean\", ops.stats().moment1AboutMean(image))\n",
    "addRow(\"moment2AboutMean\", ops.stats().moment2AboutMean(image))\n",
    "addRow(\"moment3AboutMean\", ops.stats().moment3AboutMean(image))\n",
    "addRow(\"moment4AboutMean\", ops.stats().moment4AboutMean(image))\n",
    "addRow(\"size\", ops.stats().size(image))\n",
    "addRow(\"skewness\", ops.stats().skewness(image))\n",
    "addRow(\"stdDev\", ops.stats().stdDev(image))\n",
    "addRow(\"sum\", ops.stats().sum(image))\n",
    "addRow(\"sumOfInverses\", ops.stats().sumOfInverses(image))\n",
    "addRow(\"sumOfLogs\", ops.stats().sumOfLogs(image))\n",
    "addRow(\"sumOfSquares\", ops.stats().sumOfSquares(image))\n",
    "addRow(\"variance\", ops.stats().variance(image))\n",
    "\n",
    "stats = new org.scijava.table.DefaultGenericTable()\n",
    "stats.add(statNames)\n",
    "stats.add(statValues)\n",
    "\"\"\""
   ]
  },
  {
   "cell_type": "markdown",
   "id": "f94b5007",
   "metadata": {},
   "source": [
    "<div style=\"background: #fdb; box-shadow: 4px 4px 4px #d3d3d3; padding: 0.5em; margin-top: 1em\">\n",
    "\n",
    "🏋 Please execute `compute_stats_script` on `embryo2d` using `ij.py.run_script`, saving the result to a variable called `result`.\n",
    "\n",
    "</div>"
   ]
  },
  {
   "cell_type": "code",
   "execution_count": null,
   "id": "b98c0346",
   "metadata": {},
   "outputs": [],
   "source": [
    "# -- EXERCISE 7: Calling SciJava scripts --\n",
    "# Execute compute_stats_script on embryo2d using ij.py.run_script, saving the result as outputs.\n",
    "# HINT 1: The script language is Groovy.\n",
    "# HINT 2: Wrap the embryo2d into an args dict.\n",
    "# EXTRA: Fix the bug in PyImageJ or Pandas! ;-)\n"
   ]
  },
  {
   "cell_type": "markdown",
   "id": "464b5720",
   "metadata": {},
   "source": [
    "Let's check out the result!"
   ]
  },
  {
   "cell_type": "code",
   "execution_count": null,
   "id": "7211fdf6",
   "metadata": {},
   "outputs": [],
   "source": [
    "stats = result.getOutput(\"stats\")\n",
    "assert stats is not None, \"The script did not produce any stats!\"\n",
    "assert isinstance(stats, jimport('org.scijava.table.Table')), \"The returned stats are not a SciJava table!\"\n",
    "print(f\"Java type of stats table = {type(stats)}\")\n",
    "pstats = ij.py.from_java(stats)\n",
    "print(f\"Python type of stats table = {type(pstats)}\")\n",
    "pstats"
   ]
  },
  {
   "cell_type": "markdown",
   "id": "7207025d",
   "metadata": {},
   "source": [
    "Here we see a couple of things going on:\n",
    "\n",
    "* PyImageJ converted the SciJava table into a [Pandas DataFrame](https://www.w3schools.com/python/pandas/pandas_dataframes.asp).\n",
    "* Something went hilariously wrong with printing the names of the statistics. Probably PyImageJ's table converter did something silly? But it might be a bug in Pandas. The fact that Python strings are iterable character sequences probably has something to do with it. Such is the joy of programming!\n",
    "\n",
    "<table><tr><td>\n",
    "\n",
    "💡 For more about using ImageJ Ops with PyImageJ, see [section 8](#8.-Using-ImageJ-Ops).\n",
    "\n",
    "</td></tr></table>\n",
    "\n",
    "Finally, you might be wondering why we bothered to code this statistics-calculating logic as a Groovy script, when we could have simply written it directly in Python, thanks to the magic of PyImageJ. It's true, we did not need `run_script` here. But there are reasons you might want to use `run_script`:\n",
    "\n",
    "1. If you have a pre-existing SciJava script, such as one stored in a file, `run_script` enables you to invoke it directly without translating it to Python.\n",
    "2. When you call `run_script`, the entire script executes on the Java side in one shot, whereas the equivalent Python code would perform many calls across the Python/Java boundary, each of which takes some extra time and might fail due to bugs in PyImageJ/scyjava/JPype/etc. Therefore, depending on the situation, `run_script` might improve performance and/or correctness.\n",
    "3. You might want to write a block of code in a different language besides Python (how dare you!)."
   ]
  },
  {
   "cell_type": "markdown",
   "id": "8c77ebc4",
   "metadata": {},
   "source": [
    "## 8. Using ImageJ Ops\n",
    "\n",
    "Next we'll look at a quick image processing example with [ImageJ Ops](https://imagej.net/libs/imagej-ops), ImageJ2's curated collection of image processing routines.\n",
    "\n",
    "<table><tr><td>\n",
    "\n",
    "💡 If ImageJ Ops is completely new to you, please read the [ImageJ Ops tutorial notebook](https://github.com/imagej/tutorials/blob/2022-04/notebooks/1-Using-ImageJ/2-ImageJ-Ops.ipynb) to get a feel for Ops before proceeding.\n",
    "\n",
    "</td></tr></table>\n",
    "\n",
    "In this scenario, we are interested in running the [tubeness](https://imagej.net/plugins/tubeness) filter to perform some edge detection. We start by finding it in the giant bag of available ops:"
   ]
  },
  {
   "cell_type": "code",
   "execution_count": null,
   "id": "394a0d46",
   "metadata": {},
   "outputs": [],
   "source": [
    "[op for op in ij.op().ops() if \"tube\" in op]"
   ]
  },
  {
   "cell_type": "markdown",
   "id": "129b3d3a",
   "metadata": {},
   "source": [
    "There it is. What parameters does it take?"
   ]
  },
  {
   "cell_type": "code",
   "execution_count": null,
   "id": "eadba7f7",
   "metadata": {},
   "outputs": [],
   "source": [
    "ij.op().help(\"filter.tubeness\")"
   ]
  },
  {
   "cell_type": "markdown",
   "id": "1eb85070",
   "metadata": {},
   "source": [
    "So we need to pass an image (`RandomAccessibleInterval`), a sigma (`double[]`, Javanese for \"list of doubles\"), and the spatial calibrations (list of `double`). In a vacuum, passing a calibration of 1 for every dimension would be a good starting point. But it turns out that the tubeness op is smart enough to assume 1s anyway if you pass an empty list, so let's do that by default.\n",
    "\n",
    "<div style=\"background: #fdb; box-shadow: 4px 4px 4px #d3d3d3; padding: 0.5em; margin-top: 1em\">\n",
    "\n",
    "🏋 Please fill in the body of the `tubeness` function below, using `ij.op().run` to execute the `filter.gauss` op on the given image, with the specified sigma and calibrations, returning the result. Use the `ij.py.jargs` function to wrap the op's three arguments into an `Object[]`.\n",
    "\n",
    "</div>"
   ]
  },
  {
   "cell_type": "code",
   "execution_count": null,
   "id": "d05fae54",
   "metadata": {},
   "outputs": [],
   "source": [
    "# -- EXERCISE 8: Using ImageJ Ops --\n",
    "# Write a function to compute tubeness of an image using ImageJ Ops.\n",
    "# HINT: Use ij.py.jargs to wrap your arguments into a Java Object[].\n",
    "def tubeness(image, sigma, calibration=[]):\n",
    "    \"\"\"Compute the tubeness of an image using ImageJ Ops\"\"\"\n",
    "    # START HERE: Fill in your code!\n",
    "    "
   ]
  },
  {
   "cell_type": "markdown",
   "id": "356f41ac",
   "metadata": {},
   "source": [
    "And now, we try it! Let's tubeify the `embryo` with a sigma of 10."
   ]
  },
  {
   "cell_type": "code",
   "execution_count": null,
   "id": "0d55d6dc",
   "metadata": {},
   "outputs": [],
   "source": [
    "ij.py.show(tubeness(embryo2d, sigma=10))"
   ]
  },
  {
   "cell_type": "markdown",
   "id": "f764e735",
   "metadata": {},
   "source": [
    "It would be nice to try out different sigmas more quickly, wouldn't it? Let's add a slider, like we did in [section 6.2](#6.2.-Displaying-images-dynamically-with-ipywidgets):"
   ]
  },
  {
   "cell_type": "code",
   "execution_count": null,
   "id": "fd375c3e",
   "metadata": {},
   "outputs": [],
   "source": [
    "def recalc(**kwargs):\n",
    "    ij.py.show(tubeness(embryo2d, kwargs['sigma']), cmap='magma')\n",
    "sigma_slider = ipywidgets.IntSlider(description=\"sigma\", min=1, max=20, value=10, continuous_update=True)\n",
    "ipywidgets.interact(recalc, sigma=sigma_slider)"
   ]
  },
  {
   "cell_type": "markdown",
   "id": "35420ea7",
   "metadata": {},
   "source": [
    "[Section 10.2](#10.2.-Segmentation-workflow-with-ImageJ2) uses Ops to segment an image. And please check out the [ImageJ Ops tutorial notebook](https://github.com/imagej/tutorials/blob/2022-04/notebooks/1-Using-ImageJ/2-ImageJ-Ops.ipynb) for many more examples of what Ops can do.\n"
   ]
  },
  {
   "cell_type": "markdown",
   "id": "26830ff3",
   "metadata": {},
   "source": [
    "## 9. Working with the original ImageJ\n",
    "\n",
    "So far, we have limited ourselves to the world of ImageJ2. But PyImageJ also includes support for the original ImageJ.\n",
    "\n",
    "You can tell whether a Java class is part of ImageJ or ImageJ2 by its package prefix:\n",
    "\n",
    "|   | Project | Prefix | Example class |\n",
    "|---|---------|--------|---------------|\n",
    "| ![](https://scijava.org/icons/imagej-icon-64.png) | [ImageJ](https://imagej.net/software/imagej) | `ij` | `ij.ImagePlus` |\n",
    "| ![](https://scijava.org/icons/imagej2-icon-64.png) | [ImageJ2](https://imagej.net/software/imagej2) | `net.imagej` | `net.imagej.Dataset` |\n",
    "\n",
    "The [original ImageJ API](https://javadoc.scijava.org/ImageJ1/) is simpler than [that of ImageJ2](https://javadoc.scijava.org/ImageJ2/) in many ways. However, the design of ImageJ imposes some important restrictions.\n",
    "\n",
    "**Headless mode.** The original ImageJ is a fundamentally GUI-driven application. Some of its features do not work in [headless mode](https://imagej.net/learn/headless), which (as explained in [section 6.5](#6.5.-Displaying-images-via-ImageJ)) is PyImageJ's default mode. In particular, ***you cannot use `RoiManager` or `WindowManager` headless***. PyImageJ makes a best effort to warn you if you attempt to perform such unsupported operations. For further details, see the section [\"The original ImageJ API is limited in headless mode\"](https://github.com/imagej/pyimagej/blob/1.2.0/doc/Troubleshooting.md#the-original-imagej-api-is-limited-in-headless-mode) of the PyImageJ Troubleshooting guide."
   ]
  },
  {
   "cell_type": "code",
   "execution_count": null,
   "id": "ad91d72f",
   "metadata": {},
   "outputs": [],
   "source": [
    "# In headless mode, this sort of class access will yield a warning.\n",
    "print(ij.WindowManager.getCurrentImage())"
   ]
  },
  {
   "cell_type": "markdown",
   "id": "9a4da168",
   "metadata": {},
   "source": [
    "**One ImageJ-enabled gateway at a time.** ImageJ was not designed to run multiple simultaneous instances in the same JVM, whereas ImageJ2 supports multiple gateways at once."
   ]
  },
  {
   "cell_type": "code",
   "execution_count": null,
   "id": "a7b6d7c8",
   "metadata": {},
   "outputs": [],
   "source": [
    "def legacy_status(gateway):\n",
    "    print(f\" legacy service: {gateway.legacy}\")\n",
    "    print(f\"  legacy active? {gateway.legacy and gateway.legacy.isActive()}\")\n",
    "    print(f\"ImageJ2 version: {gateway.getVersion()}\")\n",
    "\n",
    "another_ij = imagej.init()\n",
    "print(\"[ij - the original gateway]\")\n",
    "legacy_status(ij)\n",
    "print(\"\\n[another_ij - a second gateway we constructed just now]\")\n",
    "legacy_status(another_ij)"
   ]
  },
  {
   "cell_type": "markdown",
   "id": "74aca5f5",
   "metadata": {},
   "source": [
    "If you need to construct a second gateway with original ImageJ support, shut down the first one first by calling `ij.dispose()`."
   ]
  },
  {
   "cell_type": "markdown",
   "id": "02126042",
   "metadata": {},
   "source": [
    "### 9.1. Converting images to ImagePlus\n",
    "\n",
    "The `ij.py.to_imageplus(image)` function converts an image to an `ij.ImagePlus`.\n",
    "\n",
    "<div style=\"background: #fdb; box-shadow: 4px 4px 4px #d3d3d3; padding: 0.5em; margin-top: 1em\">\n",
    "\n",
    "🏋 In the following cell, please convert `xcells` into an `ImagePlus` named `imp` using the `ij.py.to_imageplus` function.\n",
    "\n",
    "</div>"
   ]
  },
  {
   "cell_type": "code",
   "execution_count": null,
   "id": "291562b9",
   "metadata": {},
   "outputs": [],
   "source": [
    "# -- EXERCISE 9.1: Converting images to ImagePlus --\n",
    "# Convert xcells to an ImagePlus object named imp.\n"
   ]
  },
  {
   "cell_type": "markdown",
   "id": "d12d55c4",
   "metadata": {},
   "source": [
    "Let's check the structure of this `imp` and get a few stats:"
   ]
  },
  {
   "cell_type": "code",
   "execution_count": null,
   "id": "cf29e254",
   "metadata": {},
   "outputs": [],
   "source": [
    "assert isinstance(imp, imagej._ImagePlus()), \"imp is not an ImagePlus\"\n",
    "dump_info(imp)\n",
    "print(imp.getAllStatistics())"
   ]
  },
  {
   "cell_type": "markdown",
   "id": "8948a39c",
   "metadata": {},
   "source": [
    "In interactive mode, you can display an `ImagePlus` using `ij.ui().show(imp)` as described in [section 6.5](#6.5.-Displaying-images-via-ImageJ), or by calling `imp.show()`.\n",
    "\n",
    "***But beware:*** if you then close the image window, ImageJ will *dispose* the `ImagePlus`, leaving it in an unusable state.\n",
    "\n",
    "Note that PyImageJ does not implement `dtype`, slicing, or element access for `ImagePlus` objects yet. See [imagej/pyimagej#194](https://github.com/imagej/pyimagej/issues/194) for details."
   ]
  },
  {
   "cell_type": "markdown",
   "id": "c174b0ee",
   "metadata": {},
   "source": [
    "### 9.2. Converting ImagePlus to other image formats\n",
    "\n",
    "If you have an `ImagePlus`, but would like something else:\n",
    "\n",
    "* `ij.py.to_dataset(imp)` will convert it to a `net.imagej.Dataset`.\n",
    "* `ij.py.from_java(imp)` will convert it to an xarray.\n",
    "\n",
    "<div style=\"background: #fdb; box-shadow: 4px 4px 4px #d3d3d3; padding: 0.5em; margin-top: 1em\">\n",
    "\n",
    "🏋 In the following cell, please convert `imp` into a `Dataset` called `imp2ds`, and also into an xarray called `imp2py`.\n",
    "\n",
    "</div>"
   ]
  },
  {
   "cell_type": "code",
   "execution_count": null,
   "id": "fa9f18db",
   "metadata": {},
   "outputs": [],
   "source": [
    "# -- EXERCISE 9.2: Converting ImagePlus to other image formats --\n",
    "# Convert imp to a Dataset called imp2ds, and to an xarray called imp2py.\n"
   ]
  },
  {
   "cell_type": "code",
   "execution_count": null,
   "id": "71918858",
   "metadata": {},
   "outputs": [],
   "source": [
    "assert isinstance(imp2ds, imagej._Dataset()) and imp2ds.shape == (256, 256, 2, 60)\n",
    "assert isinstance(imp2py, xarray.DataArray) and imp2py.shape == (60, 256, 256, 2)\n",
    "print(\"[imp2ds]\")\n",
    "dump_info(imp2ds)\n",
    "print(\"\\n[imp2py]\")\n",
    "dump_info(imp2py)"
   ]
  },
  {
   "cell_type": "markdown",
   "id": "4e09baa4",
   "metadata": {},
   "source": [
    "### 9.3. Keeping image data in sync with `ij.py.sync_image(imp)`\n",
    "\n",
    "PyImageJ is built on `imglyb` which allows direct wrapping of NumPy array data into special `RandomAccessibleInterval` structures, avoiding the duplication of data. However, when working with an `ImagePlus` in PyImageJ it is important to understand that the original ImageJ has logic that can cause unexpected behavior when modifying the pixel values of the image (whether by direct modification or through a plugin). Let's look at an example of this in action.\n",
    "\n",
    "We'll start by loading a new image and converting it to an `ImagePlus`:"
   ]
  },
  {
   "cell_type": "code",
   "execution_count": null,
   "id": "40e0861c",
   "metadata": {},
   "outputs": [],
   "source": [
    "import skimage, xarray\n",
    "skin = xarray.DataArray(skimage.data.skin(), dims=('row', 'col', 'ch'))\n",
    "skimp = ij.py.to_imageplus(skin)\n",
    "def print_3x3_corner():\n",
    "    print(f\"skin: {[int(skin[y,x,0]) for x in range(3) for y in range(3)]}\")\n",
    "    print(f\"skimp: {[skimp.getPixel(x,y)[0] for x in range(3) for y in range(3)]}\")\n",
    "print_3x3_corner()\n",
    "ij.py.show(skin)"
   ]
  },
  {
   "cell_type": "markdown",
   "id": "fa3e4303",
   "metadata": {},
   "source": [
    "To modify the values of our image, we can use the `ImageProcessor` from our `ImagePlus` by calling the [`getProcessor()`](https://imagej.nih.gov/ij/developer/api/ij/ij/ImagePlus.html#getProcessor()) method. `ImageProcessor` has a number of methods available for modifying pixel values; in this case let's use the simple [`set(double)`](https://imagej.nih.gov/ij/developer/api/ij/ij/process/ImageProcessor.html#set(double)) method to set all pixels to `17` (a number unlikely to come up otherwise by chance).\n",
    "\n",
    "<div style=\"background: #fdb; box-shadow: 4px 4px 4px #d3d3d3; padding: 0.5em; margin-top: 1em\">\n",
    "\n",
    "🏋 In the following cell, please use the `ImageProcessor` of `skimp` to set all pixel values to `17`.\n",
    "\n",
    "</div>"
   ]
  },
  {
   "cell_type": "code",
   "execution_count": null,
   "id": "b05d9c56",
   "metadata": {},
   "outputs": [],
   "source": [
    "# -- EXERCISE 9.3a: Keeping image data in sync --\n",
    "# Set all pixel values of skimp's active plane to the value 17.\n"
   ]
  },
  {
   "cell_type": "code",
   "execution_count": null,
   "id": "87a2e9bf",
   "metadata": {},
   "outputs": [],
   "source": [
    "assert skimp.getPixel(0,0)[0] == 17"
   ]
  },
  {
   "cell_type": "markdown",
   "id": "7cdc2af7",
   "metadata": {},
   "source": [
    "Now let's compare the pixel values of the `ImagePlus` and the original:"
   ]
  },
  {
   "cell_type": "code",
   "execution_count": null,
   "id": "33657d52",
   "metadata": {},
   "outputs": [],
   "source": [
    "print_3x3_corner()\n",
    "ij.py.show(skin)"
   ]
  },
  {
   "cell_type": "markdown",
   "id": "c723555b",
   "metadata": {},
   "source": [
    "Is this what you expected? As you can see, the `ImagePlus` is aware of the updated pixel values, but that change hasn't propagated through to the backing NumPy array. For this reason, we created the `ij.py.sync_image` helper method, to sync `ImagePlus` changes back to ImageJ2 and Python.\n",
    "\n",
    "<div style=\"background: #fdb; box-shadow: 4px 4px 4px #d3d3d3; padding: 0.5em; margin-top: 1em\">\n",
    "\n",
    "🏋 In the following cell, please sync the `skimp` image using the `ij.py.sync_image` function.\n",
    "\n",
    "</div>"
   ]
  },
  {
   "cell_type": "code",
   "execution_count": null,
   "id": "a3732f78",
   "metadata": {},
   "outputs": [],
   "source": [
    "# -- EXERCISE 9.3b: Keeping image data in sync --\n",
    "# Sync skimp back to Python using the `ij.py.sync_image` function.\n"
   ]
  },
  {
   "cell_type": "code",
   "execution_count": null,
   "id": "f0d9993c",
   "metadata": {},
   "outputs": [],
   "source": [
    "assert skin[0,0,0] == 17\n",
    "print_3x3_corner()\n",
    "ij.py.show(skin)"
   ]
  },
  {
   "cell_type": "markdown",
   "id": "a2456f7b",
   "metadata": {},
   "source": [
    "Success! Red channel is effectively gone because it's 17s all the way down now.\n",
    "\n",
    "This step is necessary because the original ImageJ makes a copy of image data from ImgLib2 (and therefore Python) on a plane-by-plane basis, and modifications happen directly on that copied data, rather than on the original data."
   ]
  },
  {
   "cell_type": "markdown",
   "id": "2b194dcd",
   "metadata": {},
   "source": [
    "### 9.4. Invoking ImageJ plugins\n",
    "\n",
    "The `ij.py.run_plugin` function lets you run ImageJ plugins from Python.\n",
    "\n",
    "Running ImageJ plugins from script languages is typically done via `ij.IJ.run(imp, plugin, args)`, where `imp` is the `ImagePlus` to make active during plugin execution, `plugin` is the ***label in the menus*** (as recorded by the [Macro Recorder](https://imagej.net/scripting/macro#the-recorder)), and `args` is a ***single space-separated string of arguments***, e.g. `\"path=[/data/image.tif] gamma=2 overwrite\"`.\n",
    "\n",
    "To make this more Pythonic, PyImageJ provides a helper function `ij.py.run_plugin(plugin, args={}, imp=None)` where `args` is a `dict` of variables, and `imp` is an optional `ImagePlus`; if no `imp` is given, the `ij.IJ.run(plugin, args)` method without `ImagePlus` argument is used instead. For example: `ij.py.run_plugin(plugin, {'path': '/data/image.tif', 'gamma': 2, 'overwrite': True})`.\n",
    "\n",
    "Let's try it. First we create a new `ImagePlus`:"
   ]
  },
  {
   "cell_type": "code",
   "execution_count": null,
   "id": "3ae4350b",
   "metadata": {
    "scrolled": true
   },
   "outputs": [],
   "source": [
    "import skimage\n",
    "mitepy = skimage.data.human_mitosis()\n",
    "miteimp = ij.py.to_imageplus(mitepy)\n",
    "ij.py.show(miteimp)"
   ]
  },
  {
   "cell_type": "markdown",
   "id": "e64c5807",
   "metadata": {},
   "source": [
    "Now let's blur the image using the \"Gaussian Blur...\" plugin, which modifies the image in-place.\n",
    "\n",
    "<div style=\"background: #fdb; box-shadow: 4px 4px 4px #d3d3d3; padding: 0.5em; margin-top: 1em\">\n",
    "\n",
    "🏋 In the following cell, please use `ij.py.run_plugin` to run the `Gaussian Blur...` plugin with a `sigma` of `10`.\n",
    "\n",
    "</div>"
   ]
  },
  {
   "cell_type": "code",
   "execution_count": null,
   "id": "9ab455b9",
   "metadata": {},
   "outputs": [],
   "source": [
    "# -- EXERCISE 9.4: Invoking ImageJ plugins --\n",
    "# Run the \"Gaussian Blur...\" plugin with a sigma of 10.\n",
    "# HINT 1: plugin arguments are passed in a dictionary, i.e. {'key': 'value'}\n",
    "# HINT 2: don't forget to sync the ImagePlus after running the plugin!\n"
   ]
  },
  {
   "cell_type": "markdown",
   "id": "b9b6987e",
   "metadata": {},
   "source": [
    "Because we sync'd our `ImagePlus`, we can now view the results of the blur on the original `mitepy` data:"
   ]
  },
  {
   "cell_type": "code",
   "execution_count": null,
   "id": "796c0b80",
   "metadata": {},
   "outputs": [],
   "source": [
    "ij.py.show(mitepy)"
   ]
  },
  {
   "cell_type": "markdown",
   "id": "9f9d94db",
   "metadata": {},
   "source": [
    "### 9.5. Running ImageJ macros\n",
    "\n",
    "The `ij.py.run_macro` function lets you run [ImageJ macros](https://imagej.net/scripting/macro) from Python.\n",
    "\n",
    "Before you get too excited, there are some things you should know:\n",
    "* The macro language does not support the complete ImageJ API, only a set of [built-in functions](https://imagej.nih.gov/ij/developer/macro/functions.html), although there are [ways to work around this](https://imagej.net/scripting/macro#overcoming-limitations).\n",
    "* Macros are executed by a custom interpreter that is buggier and less well tested than other script languages (Groovy, JRuby, Jython, etc.).\n",
    "* Macros are not intended to run concurrently, meaning you should only run one macro at a time.\n",
    "* Macros only support three data types: numbers, strings, and simple arrays. Images are passed via numerical IDs.\n",
    "* Macros rely on the ***active image***—i.e., the image window currently displayed in the foreground—which is tricky to get right while in headless mode.\n",
    "\n",
    "<table><tr><td>\n",
    "\n",
    "💡 See the [\"Scripting with ImageJ\" living workshop](https://imagej.net/events/presentations#living-workshops) for a primer on ImageJ macro programming.\n",
    "\n",
    "</td></tr></table>\n",
    "\n",
    "All of that said, macros are popular because they are simpler and easier to learn than other script languages.\n",
    "\n",
    "Let's suppose your colleague gave you a macro to clear an image's background and then crop down to the central portion of the image..."
   ]
  },
  {
   "cell_type": "code",
   "execution_count": null,
   "id": "b0c97c88",
   "metadata": {},
   "outputs": [],
   "source": [
    "background_clear_and_crop = \"\"\"\n",
    "setBatchMode(true);\n",
    "\n",
    "// Compute image background.\n",
    "original = getImageID();\n",
    "run(\"Duplicate...\", \" \");\n",
    "run(\"Median...\", \"radius=6\");\n",
    "setAutoThreshold(\"Li dark\");\n",
    "run(\"Create Selection\");\n",
    "\n",
    "// Clear background of the original image.\n",
    "selectImage(original);\n",
    "run(\"Restore Selection\");\n",
    "setBackgroundColor(0, 0, 0);\n",
    "run(\"Clear Outside\");\n",
    "\n",
    "// Crop to center portion of the image.\n",
    "x = getWidth() / 4\n",
    "y = getHeight() / 4\n",
    "makeRectangle(x, y, x*2, y*2);\n",
    "run(\"Crop\");\n",
    "rename(getTitle() + \"-cropped\")\n",
    "\"\"\""
   ]
  },
  {
   "cell_type": "markdown",
   "id": "35435c3c",
   "metadata": {},
   "source": [
    "...and now you want to run this macro from Python with PyImageJ.\n",
    "\n",
    "<table><tr><td>\n",
    "\n",
    "💡 A great tool for building up macros is the [Macro Recorder](https://imagej.net/scripting/macro#the-recorder). It can also generate SciJava script code by changing the recorded language to JavaScript. Another powerful tool is the [SciJava Script Editor](https://imagej.net/scripting/script-editor), which has an autocomplete feature useful for exploring available functions.\n",
    "\n",
    "</td></tr></table>\n",
    "\n",
    "All we have to do is call `ij.py.run_macro` with this `background_crop_and_clear` macro, right?\n",
    "\n",
    "Not quite... because we need to set the image to be processed as the ***active image*** first. To do that, you must convert the desired image into an `ImagePlus` and then call `show()` on it. You can do this as a succinct one-liner: `ij.py.to_imageplus(image).show()`. Even in headless mode, the `show()` call is a clue to ImageJ to register and activate this image.\n",
    "\n",
    "***But here there be dragons:*** There is currently a bug where `show()` triggers a `java.awt.HeadlessException` if there is not already at least one registered `ImagePlus`. So we will now employ a hacky workaround to avoid this problem:"
   ]
  },
  {
   "cell_type": "code",
   "execution_count": null,
   "id": "0ea0a3d1",
   "metadata": {},
   "outputs": [],
   "source": [
    "# HACK: Work around ImagePlus#show() failure if no ImagePlus objects are already registered.\n",
    "if ij.WindowManager.getIDList() is None:\n",
    "    ij.py.run_macro('newImage(\"dummy\", \"8-bit\", 1, 1, 1);')"
   ]
  },
  {
   "cell_type": "markdown",
   "id": "3c469f83",
   "metadata": {},
   "source": [
    "OK, now we are finally ready to give this macro a try on the skimage `coins` sample image."
   ]
  },
  {
   "cell_type": "code",
   "execution_count": null,
   "id": "8001e086",
   "metadata": {},
   "outputs": [],
   "source": [
    "import skimage\n",
    "coins = skimage.data.coins()\n",
    "ij.py.show(coins)"
   ]
  },
  {
   "cell_type": "markdown",
   "id": "455102df",
   "metadata": {},
   "source": [
    "<div style=\"background: #fdb; box-shadow: 4px 4px 4px #d3d3d3; padding: 0.5em; margin-top: 1em\">\n",
    "\n",
    "🏋 In the following cell, please convert `coins` to an `ImagePlus` titled `coins` and activate it with `show()`.\n",
    "\n",
    "</div>"
   ]
  },
  {
   "cell_type": "code",
   "execution_count": null,
   "id": "faedf338",
   "metadata": {},
   "outputs": [],
   "source": [
    "# -- EXERCISE 9.5a: Running ImageJ macros --\n",
    "# Convert coins to an ImagePlus titled \"coins\", and make it the active image.\n",
    "# HINT: Set the image's title using ImagePlus's setTitle function. \n"
   ]
  },
  {
   "cell_type": "code",
   "execution_count": null,
   "id": "682712b0",
   "metadata": {},
   "outputs": [],
   "source": [
    "assert ij.WindowManager.getImage(\"coins\") is not None"
   ]
  },
  {
   "cell_type": "markdown",
   "id": "a4890bac",
   "metadata": {},
   "source": [
    "<div style=\"background: #fdb; box-shadow: 4px 4px 4px #d3d3d3; padding: 0.5em; margin-top: 1em\">\n",
    "\n",
    "🏋 Next, in the following cell, please run the `background_clear_and_crop` macro.\n",
    "\n",
    "</div>"
   ]
  },
  {
   "cell_type": "code",
   "execution_count": null,
   "id": "a1b17ace",
   "metadata": {},
   "outputs": [],
   "source": [
    "# -- EXERCISE 9.5b: Running ImageJ macros --\n",
    "# Run the background_clear_and_crop macro.\n"
   ]
  },
  {
   "cell_type": "markdown",
   "id": "0874db95",
   "metadata": {},
   "source": [
    "We want to compare the before and after images, but this macro does not output anything explicitly. So what do we do?\n",
    "\n",
    "Fortunately, we can access the cropped result by grabbing it from the `WindowManager` using its `getImage` function:"
   ]
  },
  {
   "cell_type": "code",
   "execution_count": null,
   "id": "4337d108",
   "metadata": {},
   "outputs": [],
   "source": [
    "for imp_id in ij.WindowManager.getIDList():\n",
    "    print(ij.WindowManager.getImage(imp_id))"
   ]
  },
  {
   "cell_type": "code",
   "execution_count": null,
   "id": "b8366401",
   "metadata": {},
   "outputs": [],
   "source": [
    "coins_cropped = ij.WindowManager.getImage(\"coins-cropped\")\n",
    "dump_info(coins_cropped)"
   ]
  },
  {
   "cell_type": "code",
   "execution_count": null,
   "id": "66be0fe4",
   "metadata": {},
   "outputs": [],
   "source": [
    "ij.py.show(coins_cropped)"
   ]
  },
  {
   "cell_type": "markdown",
   "id": "3378e7a4",
   "metadata": {},
   "source": [
    "Wah! Why isn't it cropped? Bugs galore. It works if we duplicate the image first:"
   ]
  },
  {
   "cell_type": "code",
   "execution_count": null,
   "id": "b53c6d00",
   "metadata": {},
   "outputs": [],
   "source": [
    "ij.py.show(coins_cropped.duplicate())"
   ]
  },
  {
   "cell_type": "markdown",
   "id": "8c407fbd",
   "metadata": {},
   "source": [
    "As you can see, using ImageJ macros from Python is full of difficulties and edge cases. Proceed with care, and post on the [Image.sc Forum](https://forum.image.sc/) if stuck."
   ]
  },
  {
   "cell_type": "markdown",
   "id": "8679f5c9",
   "metadata": {},
   "source": [
    "## 10. Example segmentation workflow\n",
    "\n",
    "In our final section, we will segment the `cells` image using a traditional [ImageJ segmentation workflow](https://imagej.net/imaging/segmentation#flexible-workflow):\n",
    "\n",
    "1. Preprocess the image\n",
    "2. Apply an auto threshold\n",
    "3. Create and manipulate a mask\n",
    "4. Create and transfer a selection from the mask to the original image\n",
    "5. Analyze the resulting data\n",
    "\n",
    "<table><tr><td>\n",
    "\n",
    "💡 See the [\"Segmentation with ImageJ\" living workshop](https://imagej.net/events/presentations#living-workshops) for a primer on segmentation in ImageJ.\n",
    "\n",
    "</td></tr></table>\n",
    "\n",
    "We will do the same analysis twice: once with ImageJ, and then again with ImageJ2.\n",
    "\n",
    "There are no formal exercises in this section—play around with the code however you like! Can you improve the quality of the segmentation?"
   ]
  },
  {
   "cell_type": "markdown",
   "id": "2e24ef9c",
   "metadata": {},
   "source": [
    "### 10.1. Segmentation workflow with original ImageJ functions"
   ]
  },
  {
   "cell_type": "code",
   "execution_count": null,
   "id": "20793ce2",
   "metadata": {},
   "outputs": [],
   "source": [
    "# Convert the cells image to ImagePlus.\n",
    "imp = ij.py.to_imageplus(xcells)\n",
    "dump_info(imp)"
   ]
  },
  {
   "cell_type": "code",
   "execution_count": null,
   "id": "74734c7c",
   "metadata": {},
   "outputs": [],
   "source": [
    "# Slice out an image plane.\n",
    "c, z, t = 2, 36, 1\n",
    "Duplicator = jimport('ij.plugin.Duplicator')\n",
    "imp2d = Duplicator().run(imp, c, c, z, z, t, t)\n",
    "ij.py.show(imp2d)"
   ]
  },
  {
   "cell_type": "code",
   "execution_count": null,
   "id": "c848b8d5",
   "metadata": {},
   "outputs": [],
   "source": [
    "# Preprocess with edge-preserving smoothing.\n",
    "ij.IJ.run(imp2d, \"Kuwahara Filter\", \"sampling=10\") # Look ma, a Fiji plugin!\n",
    "ij.py.show(imp2d)"
   ]
  },
  {
   "cell_type": "code",
   "execution_count": null,
   "id": "31098c58",
   "metadata": {},
   "outputs": [],
   "source": [
    "# Threshold to binary mask.\n",
    "Prefs = jimport('ij.Prefs')\n",
    "Prefs.blackBackground = True\n",
    "ij.IJ.setAutoThreshold(imp2d, \"Otsu dark\")\n",
    "mask = imagej._ImagePlus()(\"mask\", imp2d.createThresholdMask())\n",
    "ij.IJ.run(imp2d, \"Close\", \"\")\n",
    "ij.py.show(mask)"
   ]
  },
  {
   "cell_type": "code",
   "execution_count": null,
   "id": "ac532f5a",
   "metadata": {},
   "outputs": [],
   "source": [
    "# Clean up the binary mask.\n",
    "ij.IJ.run(mask, \"Dilate\", \"\")\n",
    "ij.IJ.run(mask, \"Fill Holes\", \"\")\n",
    "ij.IJ.run(mask, \"Watershed\", \"\")\n",
    "ij.py.show(mask)"
   ]
  },
  {
   "cell_type": "code",
   "execution_count": null,
   "id": "333e1981",
   "metadata": {},
   "outputs": [],
   "source": [
    "# Transfer the mask back to the original image as a selection.\n",
    "ij.IJ.run(mask, \"Create Selection\", \"\")\n",
    "imp.setRoi(mask.getRoi()) # analogous to \"Restore Selection\"\n",
    "ij.IJ.run(mask, \"Close\", \"\")\n",
    "\n",
    "# Split the ROI into cells.\n",
    "# This works because cells are disconnected due to the watershed.\n",
    "roi = imp.getRoi()\n",
    "roi.setPosition(c, z, t) # TODO: Do we also need imp.setSlice(c, z, t)?\n",
    "rois = roi.getRois()\n",
    "\n",
    "# Measure each cell.\n",
    "ij.IJ.run(\"Set Measurements...\", \"area mean min centroid median skewness kurtosis redirect=None decimal=3\");\n",
    "for cell in rois:\n",
    "    imp.setRoi(cell)\n",
    "    ij.IJ.run(imp, \"Measure\", \"\") # adds a row to the results table\n",
    "\n",
    "# Convert the measurements to a Pandas DataFrame via a SciJava Table.\n",
    "# Would be nice to simplify this -- https://github.com/imagej/pyimagej/issues/196\n",
    "results = ij.ResultsTable.getResultsTable()\n",
    "table = ij.convert().convert(results, jimport('org.scijava.table.Table'))\n",
    "measurements = ij.py.from_java(table)\n",
    "measurements #TODO: table only renders with one row -- clashing row keys?"
   ]
  },
  {
   "cell_type": "markdown",
   "id": "3d66323e",
   "metadata": {},
   "source": [
    "Notice that we avoided using the `RoiManager`, so that the workflow still works in headless mode."
   ]
  },
  {
   "cell_type": "markdown",
   "id": "5ba3707b",
   "metadata": {},
   "source": [
    "### 10.2. Segmentation workflow with ImageJ2"
   ]
  },
  {
   "cell_type": "code",
   "execution_count": null,
   "id": "b705443f",
   "metadata": {},
   "outputs": [],
   "source": [
    "# Slice out an image plane.\n",
    "c, z = 1, 35\n",
    "cells_slice = xcells[z,c,:,:]\n",
    "ij.py.show(cells_slice)\n",
    "jslice = ij.py.to_java(cells_slice)"
   ]
  },
  {
   "cell_type": "code",
   "execution_count": null,
   "id": "7bced5ca",
   "metadata": {},
   "outputs": [],
   "source": [
    "# Preprocess with edge-preserving smoothing.\n",
    "HyperSphereShape = jimport(\"net.imglib2.algorithm.neighborhood.HyperSphereShape\")\n",
    "smoothed = ij.op().run(\"create.img\", jslice)\n",
    "ij.op().run(\"filter.median\", ij.py.jargs(smoothed, cells_slice, HyperSphereShape(5)))\n",
    "ij.py.show(smoothed)"
   ]
  },
  {
   "cell_type": "code",
   "execution_count": null,
   "id": "6e9ab48b",
   "metadata": {},
   "outputs": [],
   "source": [
    "# Threshold to binary mask.\n",
    "mask = ij.op().run(\"threshold.otsu\", smoothed)\n",
    "ij.py.show(mask)"
   ]
  },
  {
   "cell_type": "code",
   "execution_count": null,
   "id": "ce40766c",
   "metadata": {
    "scrolled": true
   },
   "outputs": [],
   "source": [
    "# Clean up the binary mask.\n",
    "mask = ij.op().run(\"morphology.dilate\", mask, HyperSphereShape(1))\n",
    "mask = ij.op().run(\"morphology.fillHoles\", mask)\n",
    "ij.py.show(mask)"
   ]
  },
  {
   "cell_type": "code",
   "execution_count": null,
   "id": "151d8f47",
   "metadata": {
    "scrolled": true
   },
   "outputs": [],
   "source": [
    "# Watershed: mask to labeling.\n",
    "use_eight_connectivity = True\n",
    "draw_watersheds = False\n",
    "sigma = 10\n",
    "args = ij.py.jargs(None, mask, use_eight_connectivity, draw_watersheds, sigma, mask)\n",
    "labeling = ij.op().run(\"image.watershed\", args)\n",
    "ij.py.show(labeling.getIndexImg(), cmap='tab10')"
   ]
  },
  {
   "cell_type": "code",
   "execution_count": null,
   "id": "b86acfc0",
   "metadata": {},
   "outputs": [],
   "source": [
    "# Calculate statistics.\n",
    "\n",
    "from collections import defaultdict\n",
    "from pandas import DataFrame\n",
    "\n",
    "Regions = jimport(\"net.imglib2.roi.Regions\")\n",
    "LabelRegions = jimport(\"net.imglib2.roi.labeling.LabelRegions\")\n",
    "\n",
    "def compute_stats(region, img, stats):\n",
    "    samples = Regions.sample(region, img)\n",
    "    stats[\"area\"].append(ij.op().run(\"stats.size\", samples).getRealDouble())\n",
    "    stats[\"mean\"].append(ij.op().run(\"stats.mean\", samples).getRealDouble())\n",
    "    min_max = ij.op().run(\"stats.minMax\", samples)\n",
    "    stats[\"min\"].append(min_max.getA().getRealDouble())\n",
    "    stats[\"max\"].append(min_max.getB().getRealDouble())\n",
    "    centroid = ij.op().run(\"geom.centroid\", region)\n",
    "    stats[\"centroid\"].append(tuple(centroid.getDoublePosition(d) for d in range(centroid.numDimensions())))\n",
    "    stats[\"median\"].append(ij.op().run(\"stats.median\", samples).getRealDouble())\n",
    "    stats[\"skewness\"].append(ij.op().run(\"stats.skewness\", samples).getRealDouble())\n",
    "    stats[\"kurtosis\"].append(ij.op().run(\"stats.kurtosis\", samples).getRealDouble())\n",
    "\n",
    "regions = LabelRegions(labeling)\n",
    "stats = defaultdict(list)\n",
    "for region in regions:\n",
    "    compute_stats(region, jslice, stats)\n",
    "DataFrame(stats)"
   ]
  }
 ],
 "metadata": {
  "kernelspec": {
   "display_name": "Python 3 (ipykernel)",
   "language": "python",
   "name": "python3"
  },
  "language_info": {
   "codemirror_mode": {
    "name": "ipython",
    "version": 3
   },
   "file_extension": ".py",
   "mimetype": "text/x-python",
   "name": "python",
   "nbconvert_exporter": "python",
   "pygments_lexer": "ipython3",
   "version": "3.8.13"
  },
  "toc": {
   "base_numbering": 1,
   "nav_menu": {},
   "number_sections": true,
   "sideBar": true,
   "skip_h1_title": true,
   "title_cell": "Table of Contents",
   "title_sidebar": "Contents",
   "toc_cell": false,
   "toc_position": {
    "height": "calc(100% - 180px)",
    "left": "10px",
    "top": "150px",
    "width": "211px"
   },
   "toc_section_display": true,
   "toc_window_display": true
  }
 },
 "nbformat": 4,
 "nbformat_minor": 5
}
